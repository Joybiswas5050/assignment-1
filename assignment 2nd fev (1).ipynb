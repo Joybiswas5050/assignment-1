{
 "cells": [
  {
   "cell_type": "code",
   "execution_count": 1,
   "id": "66d3505d-a115-464f-8a4b-39ee5ea55234",
   "metadata": {},
   "outputs": [
    {
     "name": "stdout",
     "output_type": "stream",
     "text": [
      "1\n",
      "2\n",
      "3\n",
      "4\n",
      "5\n"
     ]
    }
   ],
   "source": [
    "for i in range(1, 6):\n",
    "    print(i)"
   ]
  },
  {
   "cell_type": "code",
   "execution_count": 3,
   "id": "b7e10ebb-c4f8-4d3f-9146-6d684429c705",
   "metadata": {},
   "outputs": [
    {
     "name": "stdout",
     "output_type": "stream",
     "text": [
      "1\n",
      "2\n",
      "3\n",
      "4\n",
      "5\n"
     ]
    }
   ],
   "source": [
    "num = 1\n",
    "while num <= 5:\n",
    "    print(num)\n",
    "    num += 1\n"
   ]
  },
  {
   "cell_type": "markdown",
   "id": "d4e683ea-fc4d-43c6-a15d-48f431eb47ac",
   "metadata": {},
   "source": [
    "### Question no 2"
   ]
  },
  {
   "cell_type": "code",
   "execution_count": 5,
   "id": "06d0a386-3a8b-4e07-bbb9-eba719a8669b",
   "metadata": {},
   "outputs": [
    {
     "name": "stdout",
     "output_type": "stream",
     "text": [
      "Sum of first 10 natural numbers is: 55\n",
      "Product of first 10 natural numbers is: 3628800\n"
     ]
    }
   ],
   "source": [
    "# Calculate sum and product of first 10 natural numbers using for loop\n",
    "sum = 0\n",
    "product = 1\n",
    "\n",
    "for i in range(1, 11):\n",
    "    sum += i\n",
    "    product *= i\n",
    "\n",
    "print(\"Sum of first 10 natural numbers is:\", sum)\n",
    "print(\"Product of first 10 natural numbers is:\", product)\n"
   ]
  },
  {
   "cell_type": "code",
   "execution_count": 6,
   "id": "a3d1ee9f-c107-4c04-a35a-24eb8568b5b0",
   "metadata": {},
   "outputs": [
    {
     "name": "stdout",
     "output_type": "stream",
     "text": [
      "Sum of first 10 natural numbers is: 55\n",
      "Product of first 10 natural numbers is: 3628800\n"
     ]
    }
   ],
   "source": [
    "# Calculate sum and product of first 10 natural numbers using while loop\n",
    "sum = 0\n",
    "product = 1\n",
    "i = 1\n",
    "\n",
    "while i <= 10:\n",
    "    sum += i\n",
    "    product *= i\n",
    "    i += 1\n",
    "\n",
    "print(\"Sum of first 10 natural numbers is:\", sum)\n",
    "print(\"Product of first 10 natural numbers is:\", product)\n"
   ]
  },
  {
   "cell_type": "code",
   "execution_count": 7,
   "id": "3f80c134-c57e-4fa1-977c-2e5cdff748e5",
   "metadata": {},
   "outputs": [],
   "source": [
    "### Question no 3"
   ]
  },
  {
   "cell_type": "code",
   "execution_count": 8,
   "id": "0d45374d-8311-45a5-8778-bcc98f0fc316",
   "metadata": {},
   "outputs": [
    {
     "name": "stdin",
     "output_type": "stream",
     "text": [
      "Enter the number of units consumed:  310\n"
     ]
    },
    {
     "name": "stdout",
     "output_type": "stream",
     "text": [
      "The total bill for 310 units is Rs. 2250.00\n"
     ]
    }
   ],
   "source": [
    "units_consumed = int(input(\"Enter the number of units consumed: \"))\n",
    "\n",
    "if units_consumed <= 100:\n",
    "    total_bill = units_consumed * 4.5\n",
    "elif units_consumed <= 200:\n",
    "    total_bill = 100 * 4.5 + (units_consumed - 100) * 6\n",
    "elif units_consumed <= 300:\n",
    "    total_bill = 100 * 4.5 + 100 * 6 + (units_consumed - 200) * 10\n",
    "else:\n",
    "    total_bill = 100 * 4.5 + 100 * 6 + 100 * 10 + (units_consumed - 300) * 20\n",
    "\n",
    "print(f\"The total bill for {units_consumed} units is Rs. {total_bill:.2f}\")\n"
   ]
  },
  {
   "cell_type": "code",
   "execution_count": 9,
   "id": "5d4a6295-1540-45fb-8299-b64504496e71",
   "metadata": {},
   "outputs": [],
   "source": [
    "###Question no 4"
   ]
  },
  {
   "cell_type": "code",
   "execution_count": 11,
   "id": "5b582596-e993-4143-acf1-f6fcf56b76a3",
   "metadata": {},
   "outputs": [
    {
     "name": "stdout",
     "output_type": "stream",
     "text": [
      "[2, 4, 5, 6, 8, 10, 12, 14, 15, 16, 18, 20, 22, 24, 25, 26, 28, 30, 32, 34, 35, 36, 38, 40, 42, 44, 45, 46, 48, 50, 52, 54, 55, 56, 58, 60, 62, 64, 65, 66, 68, 70, 72, 74, 75, 76, 78, 80, 82, 84, 85, 86, 88, 90, 92, 94, 95, 96, 98, 100]\n"
     ]
    }
   ],
   "source": [
    "cubes = []\n",
    "for i in range(1, 101):\n",
    "    cube = i ** 3\n",
    "    if cube % 4 == 0 or cube % 5 == 0:\n",
    "        cubes.append(i)\n",
    "print(cubes)\n"
   ]
  },
  {
   "cell_type": "code",
   "execution_count": 12,
   "id": "8dc0f8c9-08ea-4786-9955-7c67ed9cdaa5",
   "metadata": {},
   "outputs": [
    {
     "name": "stdout",
     "output_type": "stream",
     "text": [
      "[2, 4, 5, 6, 8, 10, 12, 14, 15, 16, 18, 20, 22, 24, 25, 26, 28, 30, 32, 34, 35, 36, 38, 40, 42, 44, 45, 46, 48, 50, 52, 54, 55, 56, 58, 60, 62, 64, 65, 66, 68, 70, 72, 74, 75, 76, 78, 80, 82, 84, 85, 86, 88, 90, 92, 94, 95, 96, 98, 100]\n"
     ]
    }
   ],
   "source": [
    "cubes = []\n",
    "i = 1\n",
    "while i <= 100:\n",
    "    cube = i ** 3\n",
    "    if cube % 4 == 0 or cube % 5 == 0:\n",
    "        cubes.append(i)\n",
    "    i += 1\n",
    "print(cubes)\n"
   ]
  },
  {
   "cell_type": "code",
   "execution_count": 13,
   "id": "bdff0580-916b-4a21-b25f-292cea6ef3de",
   "metadata": {},
   "outputs": [],
   "source": [
    "###Question no 5"
   ]
  },
  {
   "cell_type": "code",
   "execution_count": 14,
   "id": "050852c8-94bb-4cd1-968b-09c175dbbb17",
   "metadata": {},
   "outputs": [
    {
     "name": "stdout",
     "output_type": "stream",
     "text": [
      "The number of vowels in the string is: 12\n"
     ]
    }
   ],
   "source": [
    "string = \"I want to become a data scientist\"\n",
    "vowels = \"aeiou\"\n",
    "count = 0\n",
    "\n",
    "for char in string:\n",
    "    if char.lower() in vowels:\n",
    "        count += 1\n",
    "\n",
    "print(\"The number of vowels in the string is:\", count)\n"
   ]
  },
  {
   "cell_type": "code",
   "execution_count": null,
   "id": "5bd6b7ec-e021-459d-9790-76bd7d5527bd",
   "metadata": {},
   "outputs": [],
   "source": []
  }
 ],
 "metadata": {
  "kernelspec": {
   "display_name": "Python 3 (ipykernel)",
   "language": "python",
   "name": "python3"
  },
  "language_info": {
   "codemirror_mode": {
    "name": "ipython",
    "version": 3
   },
   "file_extension": ".py",
   "mimetype": "text/x-python",
   "name": "python",
   "nbconvert_exporter": "python",
   "pygments_lexer": "ipython3",
   "version": "3.10.8"
  }
 },
 "nbformat": 4,
 "nbformat_minor": 5
}
